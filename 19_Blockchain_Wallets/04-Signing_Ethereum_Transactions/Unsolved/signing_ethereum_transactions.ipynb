{
 "cells": [
  {
   "cell_type": "markdown",
   "metadata": {},
   "source": [
    "# Signing Ethereum Transactions\n",
    "\n",
    "In this activity, you will use the Web3.py library to sign and authorize messages using your public-private key pair.\n",
    "\n",
    "## Instructions\n",
    "Complete each of the following steps:\n",
    "\n",
    "1. In the `Unsolved` folder, add the `.env` file that contains the mnemonic seed phrase that you generated in the first activity. Be sure to save this as the variable `MNEMONIC`.\n",
    "\n",
    "2. Call `os.getenv(\"MNEMONIC\")` and save its value as a variable named `mnemonic`. Confirm that your seed phrase is available by checking the `type` of your `mnemonic` variable. \n",
    "\n",
    "> **Rewind** The information contained in an `.env` file should never be displayed to a program’s user. To confirm that the information is available, you can check the data type of the variable using the syntax `type(variable)`. If the variable has been imported correctly, the result should be a data type “str”, indicating that it is a string variable. \n",
    "\n",
    "\n",
    "3. From the bip44 package, generate a `Wallet` instance and pass your `mnemonic` variable as the parameter.\n",
    "\n",
    "\n",
    "4. Derive public and private keys from your wallet instance; save the values as two variables named `public` and `private`. \n",
    "\n",
    "> **Important** Remember that with the code we’re using today, generating a wallet with the same mnemonic seed phrase will generate the same private key and account information every time we run the program.\n",
    "\n",
    "5. Using the `Account` object and the `privateKeyToAccount` function, use your private key to generate an Ethereum account. To confirm the account was successfully initiated, print the account’s address.\n",
    "\n",
    "\n",
    "6. Create a new string variable named `msg`, and set its value equal to any message you would like to sign&mdash;e.g., “Zach owes Glenna 40”.\n",
    "\n",
    "\n",
    "7. Use `encode_defunct(text=msg)` from Web3.py to byte encode your message. Save the output as a variable named `encoded_msg`.\n",
    "\n",
    "\n",
    "8. Call the `w3.eth.account.sign_message` method. Pass it your encoded message variable and your private key. Your private key will “sign” your new message. Save the returned signed message as a variable named `signed_message`.\n",
    "\n",
    "\n",
    "9. Then, call the `w3.eth.account.recover_message` method. Pass it your encoded message variable and the message’s signature from the `signed_message.signature`. Confirm that the returned value matches the account address that was printed in Step 5. \n",
    "\n",
    "\n",
    "## References\n",
    "\n",
    "[Web3.py](https://web3py.readthedocs.io/en/stable/)\n",
    "\n",
    "[encode_defunct](https://web3py.readthedocs.io/en/stable/web3.eth.account.html?highlight=eth.account) \n",
    "\n",
    "[web3.auto](https://web3py.readthedocs.io/en/stable/providers.html?highlight=from%20web3.auto%20import%20w3#automatic-vs-manual-providers)\n",
    "\n",
    "[mnemonic](https://pypi.org/project/mnemonic/)\n",
    "\n",
    "[bip44](https://pypi.org/project/bip44/)\n",
    "\n",
    "[Ethereum](https://ethereum.org/en/developers/docs/)\n",
    "\n",
    "---"
   ]
  },
  {
   "cell_type": "markdown",
   "metadata": {},
   "source": [
    "## Step 1: In the `Unsolved` folder, add the `.env` file that contains the mnemonic seed phrase that you generated in the first activity. Be sure to save this as the variable `MNEMONIC`."
   ]
  },
  {
   "cell_type": "code",
   "execution_count": 1,
   "metadata": {},
   "outputs": [],
   "source": [
    "# Imports\n",
    "import os\n",
    "from dotenv import load_dotenv\n",
    "load_dotenv()\n",
    "from bip44 import Wallet\n",
    "from eth_account import Account\n",
    "from web3.auto import w3\n",
    "from eth_account.messages import encode_defunct"
   ]
  },
  {
   "cell_type": "markdown",
   "metadata": {},
   "source": [
    "## Step 2: Call `os.getenv(\"MNEMONIC\")` and save its value as a variable named `mnemonic`. Confirm that your seed phrase is available by checking the `type` of your `mnemonic` variable. "
   ]
  },
  {
   "cell_type": "code",
   "execution_count": 11,
   "metadata": {},
   "outputs": [
    {
     "data": {
      "text/plain": [
       "'inject work property net ivory garbage unusual kiss dose such crime debris salad series verify vault shallow betray ask black aspect lumber stuff sight'"
      ]
     },
     "execution_count": 11,
     "metadata": {},
     "output_type": "execute_result"
    }
   ],
   "source": [
    "# Call os.getenv(\"MNEMONIC\") and save it's value as a variable named mnemonic\n",
    "mnemonic = os.getenv(\"MNEMONIC\")\n",
    "\n",
    "# View the data type of mnemonic to confirm its availability\n",
    "mnemonic"
   ]
  },
  {
   "cell_type": "markdown",
   "metadata": {},
   "source": [
    "## Step 3: From the bip44 package, generate a `Wallet` instance and pass your `mnemonic` variable as the parameter."
   ]
  },
  {
   "cell_type": "code",
   "execution_count": 12,
   "metadata": {},
   "outputs": [
    {
     "data": {
      "text/plain": [
       "<bip44.wallet.Wallet at 0x7fbfef1a7eb0>"
      ]
     },
     "execution_count": 12,
     "metadata": {},
     "output_type": "execute_result"
    }
   ],
   "source": [
    "# Instantiate a new instance of Wallet and pass it the mnemonic variable\n",
    "wallet = Wallet(mnemonic)\n",
    "\n",
    "# Review your wallet instance\n",
    "wallet"
   ]
  },
  {
   "cell_type": "markdown",
   "metadata": {},
   "source": [
    "## Step 4: Derive public and private keys from your wallet instance; save the values as two variables named `public` and `private`. "
   ]
  },
  {
   "cell_type": "code",
   "execution_count": 13,
   "metadata": {},
   "outputs": [
    {
     "data": {
      "text/plain": [
       "b'Oo2\\xe8\\xb8$\\xd0L\\x80N\\xbf\\x97H.\\x7f$\\x119\\xd8\\xf2N]c\\x8d\\xf1t[5\\x14\\x1f\\xd3\\xe9'"
      ]
     },
     "execution_count": 13,
     "metadata": {},
     "output_type": "execute_result"
    }
   ],
   "source": [
    "# Calling the derive_account method on your wallet instance\n",
    "# Pass the string eth to the method\n",
    "private, public = wallet.derive_account(\"eth\")\n",
    "\n",
    "# Review the byte string of your private key\n",
    "private"
   ]
  },
  {
   "cell_type": "markdown",
   "metadata": {},
   "source": [
    "## Step 5: Using the `Account` object and the `privateKeyToAccount` function, use your private key to generate an Ethereum account. To confirm the account was successfully initiated, print the account’s address."
   ]
  },
  {
   "cell_type": "code",
   "execution_count": 19,
   "metadata": {},
   "outputs": [
    {
     "data": {
      "text/plain": [
       "'0xF634ceAf7A72C10480bE7c4e3772aC14e11A1713'"
      ]
     },
     "execution_count": 19,
     "metadata": {},
     "output_type": "execute_result"
    }
   ],
   "source": [
    "# Construct the Ethereum account by calling Account.privateKeyToAccount\n",
    "# Pass it your private key variable\n",
    "account = Account.privateKeyToAccount(private)\n",
    "\n",
    "# Print the account's address\n",
    "account.address"
   ]
  },
  {
   "cell_type": "markdown",
   "metadata": {},
   "source": [
    "## Step 6: Create a new string variable named `msg`, and set its value equal to any message you would like to sign&mdash; .e.g.,“Zach owes Glenna $40”."
   ]
  },
  {
   "cell_type": "code",
   "execution_count": 15,
   "metadata": {},
   "outputs": [],
   "source": [
    "# Create a string message \n",
    "msg = \"Mark owes Sarah $80\"\n"
   ]
  },
  {
   "cell_type": "markdown",
   "metadata": {},
   "source": [
    "## Step 7: Use `encode_defunct(text=msg)` from Web3.py to byte encode your message. Save the output as a variable named `encoded_msg`."
   ]
  },
  {
   "cell_type": "code",
   "execution_count": 16,
   "metadata": {},
   "outputs": [],
   "source": [
    "# Use the encode_defunct message to encode your message string\n",
    "encoded_msg = encode_defunct(text=msg)\n"
   ]
  },
  {
   "cell_type": "markdown",
   "metadata": {},
   "source": [
    "## Step 8: Call the `w3.eth.account.sign_message` method. Pass it your encoded message variable and your private key. Your private key will “sign” your new message. Save the returned signed message as a variable named `signed_message`."
   ]
  },
  {
   "cell_type": "code",
   "execution_count": 17,
   "metadata": {},
   "outputs": [
    {
     "data": {
      "text/plain": [
       "SignedMessage(messageHash=HexBytes('0xb00609ba96fc70c8c79bb908f0ab2ff9c09da4ff813cac73f7d120c83e992804'), r=58880004036589116962647297827310888898338959324694189805512804822232215904867, s=2497535601062399035937555239006644401982919310767217478788493914623495428307, v=27, signature=HexBytes('0x822ce6bb400ad8e6fe852ed67a5735d5da9b39dc35d1d81fa6f34badfcb0e26305858e182155bddec5d46c66e18a67b52bafc0816b77a68deb7a6188b260d8d31b'))"
      ]
     },
     "execution_count": 17,
     "metadata": {},
     "output_type": "execute_result"
    }
   ],
   "source": [
    "# Use w3.eth.account.sign_message to create a signed message\n",
    "# Pass the method your encoded message and private key\n",
    "signed_message = w3.eth.account.sign_message(encoded_msg, private_key=private)\n",
    "\n",
    "# Review your signed message\n",
    "signed_message"
   ]
  },
  {
   "cell_type": "markdown",
   "metadata": {},
   "source": [
    "## Step 9: Then, call the `w3.eth.account.recover_message` method. Pass it your encoded message variable and the message’s signature from the `signed_message.signature`. Confirm that the returned value matches the account address that was printed in Step 5. "
   ]
  },
  {
   "cell_type": "code",
   "execution_count": 18,
   "metadata": {},
   "outputs": [
    {
     "data": {
      "text/plain": [
       "'0xF634ceAf7A72C10480bE7c4e3772aC14e11A1713'"
      ]
     },
     "execution_count": 18,
     "metadata": {},
     "output_type": "execute_result"
    }
   ],
   "source": [
    "# Call the `w3.eth.account.recover_message` method\n",
    "# Pass your encoded message variable and the message’s signature \n",
    "w3.eth.account.recover_message(encoded_msg, signature=signed_message.signature)"
   ]
  }
 ],
 "metadata": {
  "kernelspec": {
   "display_name": "Python 3",
   "language": "python",
   "name": "python3"
  },
  "language_info": {
   "codemirror_mode": {
    "name": "ipython",
    "version": 3
   },
   "file_extension": ".py",
   "mimetype": "text/x-python",
   "name": "python",
   "nbconvert_exporter": "python",
   "pygments_lexer": "ipython3",
   "version": "3.8.8"
  }
 },
 "nbformat": 4,
 "nbformat_minor": 4
}
