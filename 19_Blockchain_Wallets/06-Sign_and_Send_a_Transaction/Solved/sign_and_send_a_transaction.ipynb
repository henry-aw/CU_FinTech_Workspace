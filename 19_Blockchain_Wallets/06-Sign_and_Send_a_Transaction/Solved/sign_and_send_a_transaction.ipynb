{
 "cells": [
  {
   "cell_type": "markdown",
   "metadata": {},
   "source": [
    "# Sign and Send a Transaction\n",
    "In this activity, you will create a new transaction object that will transfer some of your Kovan ether funds, which you received from the Kovan faucet in the previous activity, to another account. \n",
    "\n",
    "Using the mnemonic seed phrase that you created in the previous lesson, you will re-generate your HD wallet and your Ethereum public-private key pair and account address.\n",
    "\n",
    "Once you have established the account and transaction information, you will send the signed transaction to the Kovan testnet.\n",
    "\n",
    "## Instructions\n",
    "\n",
    "Complete each of the following steps:\n",
    "\n",
    "1. In the `Unsolved` folder, create a `.env` file that contains both your mnemonic seed phrase (created in the previous lesson) and your Infura project id (created in the previous activity). Import the `MNEMONIC` variable into the notebook. \n",
    "\n",
    "> **Note** You do not need to import the Infura project id directly into the notebook from the `.env` file. The import statement `from web3.auto.infura.kovan import w3` automatically sources the information from the `.env` file and makes it available as needed.\n",
    "\n",
    "2. Use the variable associated with your mnemonic seed phrase, and the `Wallet` class from the bip44 package, to generate a wallet instance. Then, derive your private and public keys by calling the `.derive_account` method on the `wallet` object and passing it the string “eth”. Save the two returned values as variables named `private` and `public`.\n",
    "\n",
    "\n",
    "3. Pass the private-key value to `Account.privateKeyToAccount`, and save the returned account object as a variable named `account`.\n",
    "\n",
    "\n",
    "4. Call `account.address`, and save it as a new variable named `account_address`. Then, print the `account_address` variable to get your public Ethereum address from your public key.\n",
    "\n",
    "5. Define a new variable named `amount`, and set it to a float amount (in ether) that you would like to send&mdash;for example, .00001.\n",
    "\n",
    "6. Define a new variable named `receiver` with a string value of “0x4b0d14BDD1E41dAdD15B66EEB7D7c454aD19A0af”. This is the Ethereum address that you will send your transaction to. \n",
    "\n",
    "> **Note** The address that has been provided,  0x4b0d14BDD1E41dAdD15B66EEB7D7c454aD19A0af, is an Ethereum address associated with the fintech boot camp.\n",
    ">\n",
    "> Alternatively, you could repeat the steps associated with the previous lesson’s “Generate an Ethereum Account from a Mnemonic” activity, and create a second Ethereum account, private key, and address. If you go this route, save this new seed phrase on your computer as `MNEMONIC2` to keep it separate from your original mnemonic phrase. Then you could send Kovan ether to yourself over the Kovan testnet, using this second Ethereum address as the value associated with the `receiver` variable.\n",
    "\n",
    "7. Call the `w3.toWei` function, and convert your `amount` variable to the equivalent amount in ether. Save this value as a new variable named `value`.\n",
    "\n",
    "\n",
    "8. Call `w3.eth.setGasPriceStrategy(medium_gas_price_strategy)` to configure the medium gas price strategy for your wallet.\n",
    "\n",
    "9. Call `w3.eth.estimateGas`, and pass it an object with the following values: { \"to\": receiver, \"from\": account_address, \"value\": value}. Save it as a variable named `gasEstimate`.\n",
    "\n",
    "\n",
    "10. Construct a transaction object named `raw_tx`. It should contain the attributes `to`, `from`, `value`, `gas`, `gasPrice`, and `nonce`.\n",
    "\n",
    "* Set `to` to the value of the variable `receiver`.\n",
    "* Set `from` to the value of the variable `account_address`.\n",
    "* Set `value` to the value of the variable `value`.\n",
    "* Set `gas` to the value of the variable `gasEstimate`.\n",
    "* Set `gasPrice` to the value of the function `w3.eth.generateGasPrice`.\n",
    "* Set `nonce` to the value of the function `w3.eth.getTransactionCount(account_address)`.\n",
    "\n",
    "\n",
    "11. Call `account.signTransaction`, and pass it the `raw_tx` object to sign the transaction.\n",
    "\n",
    "\n",
    "12. Call `w3.eth.sendRawTransaction`, and pass it `signed_tx.rawTransaction` to execute the transaction on the testnet network. View the HexBytes transaction code that is returned.\n",
    "\n",
    "13. Navigate to the Kovan [Etherscan](https://kovan.etherscan.io) webpage, and view the transaction by searching for either the “to” or “from” addresses or the HexBytes code associated with the transaction.\n",
    "\n",
    "\n",
    "## References\n",
    "\n",
    "[Web3.py](https://web3py.readthedocs.io/en/stable/)\n",
    "\n",
    "[Kovan Etherscan](https://kovan.etherscan.io)\n",
    "\n",
    "---\n"
   ]
  },
  {
   "cell_type": "markdown",
   "metadata": {},
   "source": [
    "## Step 1: In the `Unsolved` folder, create a `.env` file that contains both your mnemonic seed phrase (created in the previous lesson) and your Infura project id (created in the previous activity)."
   ]
  },
  {
   "cell_type": "code",
   "execution_count": 1,
   "metadata": {},
   "outputs": [
    {
     "ename": "InfuraKeyNotFound",
     "evalue": "No Infura Project ID found. Please ensure that the environment variable WEB3_INFURA_PROJECT_ID is set.",
     "output_type": "error",
     "traceback": [
      "\u001b[0;31m---------------------------------------------------------------------------\u001b[0m",
      "\u001b[0;31mInfuraKeyNotFound\u001b[0m                         Traceback (most recent call last)",
      "\u001b[0;32m/var/folders/nm/p7sfzsvs4cg8msc03yx5qqwh0000gn/T/ipykernel_45982/3764090281.py\u001b[0m in \u001b[0;36m<module>\u001b[0;34m\u001b[0m\n\u001b[1;32m      5\u001b[0m \u001b[0;32mfrom\u001b[0m \u001b[0mbip44\u001b[0m \u001b[0;32mimport\u001b[0m \u001b[0mWallet\u001b[0m\u001b[0;34m\u001b[0m\u001b[0;34m\u001b[0m\u001b[0m\n\u001b[1;32m      6\u001b[0m \u001b[0;32mfrom\u001b[0m \u001b[0mweb3\u001b[0m\u001b[0;34m.\u001b[0m\u001b[0mgas_strategies\u001b[0m\u001b[0;34m.\u001b[0m\u001b[0mtime_based\u001b[0m \u001b[0;32mimport\u001b[0m \u001b[0mmedium_gas_price_strategy\u001b[0m\u001b[0;34m\u001b[0m\u001b[0;34m\u001b[0m\u001b[0m\n\u001b[0;32m----> 7\u001b[0;31m \u001b[0;32mfrom\u001b[0m \u001b[0mweb3\u001b[0m\u001b[0;34m.\u001b[0m\u001b[0mauto\u001b[0m\u001b[0;34m.\u001b[0m\u001b[0minfura\u001b[0m\u001b[0;34m.\u001b[0m\u001b[0mkovan\u001b[0m \u001b[0;32mimport\u001b[0m \u001b[0mw3\u001b[0m\u001b[0;34m\u001b[0m\u001b[0;34m\u001b[0m\u001b[0m\n\u001b[0m\u001b[1;32m      8\u001b[0m \u001b[0;32mfrom\u001b[0m \u001b[0mweb3\u001b[0m \u001b[0;32mimport\u001b[0m \u001b[0mmiddleware\u001b[0m\u001b[0;34m,\u001b[0m \u001b[0mAccount\u001b[0m\u001b[0;34m\u001b[0m\u001b[0;34m\u001b[0m\u001b[0m\n",
      "\u001b[0;32m/opt/anaconda3/lib/python3.8/site-packages/web3/auto/infura/__init__.py\u001b[0m in \u001b[0;36m<module>\u001b[0;34m\u001b[0m\n\u001b[1;32m     11\u001b[0m \u001b[0;34m\u001b[0m\u001b[0m\n\u001b[1;32m     12\u001b[0m \u001b[0m_headers\u001b[0m \u001b[0;34m=\u001b[0m \u001b[0mbuild_http_headers\u001b[0m\u001b[0;34m(\u001b[0m\u001b[0;34m)\u001b[0m\u001b[0;34m\u001b[0m\u001b[0;34m\u001b[0m\u001b[0m\n\u001b[0;32m---> 13\u001b[0;31m \u001b[0m_infura_url\u001b[0m \u001b[0;34m=\u001b[0m \u001b[0mbuild_infura_url\u001b[0m\u001b[0;34m(\u001b[0m\u001b[0mINFURA_MAINNET_DOMAIN\u001b[0m\u001b[0;34m)\u001b[0m\u001b[0;34m\u001b[0m\u001b[0;34m\u001b[0m\u001b[0m\n\u001b[0m\u001b[1;32m     14\u001b[0m \u001b[0;34m\u001b[0m\u001b[0m\n\u001b[1;32m     15\u001b[0m \u001b[0mw3\u001b[0m \u001b[0;34m=\u001b[0m \u001b[0mWeb3\u001b[0m\u001b[0;34m(\u001b[0m\u001b[0mload_provider_from_uri\u001b[0m\u001b[0;34m(\u001b[0m\u001b[0m_infura_url\u001b[0m\u001b[0;34m,\u001b[0m \u001b[0m_headers\u001b[0m\u001b[0;34m)\u001b[0m\u001b[0;34m)\u001b[0m\u001b[0;34m\u001b[0m\u001b[0;34m\u001b[0m\u001b[0m\n",
      "\u001b[0;32m/opt/anaconda3/lib/python3.8/site-packages/web3/auto/infura/endpoints.py\u001b[0m in \u001b[0;36mbuild_infura_url\u001b[0;34m(domain)\u001b[0m\n\u001b[1;32m     53\u001b[0m \u001b[0;32mdef\u001b[0m \u001b[0mbuild_infura_url\u001b[0m\u001b[0;34m(\u001b[0m\u001b[0mdomain\u001b[0m\u001b[0;34m:\u001b[0m \u001b[0mstr\u001b[0m\u001b[0;34m)\u001b[0m \u001b[0;34m->\u001b[0m \u001b[0mURI\u001b[0m\u001b[0;34m:\u001b[0m\u001b[0;34m\u001b[0m\u001b[0;34m\u001b[0m\u001b[0m\n\u001b[1;32m     54\u001b[0m     \u001b[0mscheme\u001b[0m \u001b[0;34m=\u001b[0m \u001b[0mos\u001b[0m\u001b[0;34m.\u001b[0m\u001b[0menviron\u001b[0m\u001b[0;34m.\u001b[0m\u001b[0mget\u001b[0m\u001b[0;34m(\u001b[0m\u001b[0;34m'WEB3_INFURA_SCHEME'\u001b[0m\u001b[0;34m,\u001b[0m \u001b[0mWEBSOCKET_SCHEME\u001b[0m\u001b[0;34m)\u001b[0m\u001b[0;34m\u001b[0m\u001b[0;34m\u001b[0m\u001b[0m\n\u001b[0;32m---> 55\u001b[0;31m     \u001b[0mkey\u001b[0m \u001b[0;34m=\u001b[0m \u001b[0mload_api_key\u001b[0m\u001b[0;34m(\u001b[0m\u001b[0;34m)\u001b[0m\u001b[0;34m\u001b[0m\u001b[0;34m\u001b[0m\u001b[0m\n\u001b[0m\u001b[1;32m     56\u001b[0m     \u001b[0msecret\u001b[0m \u001b[0;34m=\u001b[0m \u001b[0mload_secret\u001b[0m\u001b[0;34m(\u001b[0m\u001b[0;34m)\u001b[0m\u001b[0;34m\u001b[0m\u001b[0;34m\u001b[0m\u001b[0m\n\u001b[1;32m     57\u001b[0m \u001b[0;34m\u001b[0m\u001b[0m\n",
      "\u001b[0;32m/opt/anaconda3/lib/python3.8/site-packages/web3/auto/infura/endpoints.py\u001b[0m in \u001b[0;36mload_api_key\u001b[0;34m()\u001b[0m\n\u001b[1;32m     32\u001b[0m                          os.environ.get('WEB3_INFURA_API_KEY', ''))\n\u001b[1;32m     33\u001b[0m     \u001b[0;32mif\u001b[0m \u001b[0mkey\u001b[0m \u001b[0;34m==\u001b[0m \u001b[0;34m''\u001b[0m\u001b[0;34m:\u001b[0m\u001b[0;34m\u001b[0m\u001b[0;34m\u001b[0m\u001b[0m\n\u001b[0;32m---> 34\u001b[0;31m         raise InfuraKeyNotFound(\n\u001b[0m\u001b[1;32m     35\u001b[0m             \u001b[0;34m\"No Infura Project ID found. Please ensure \"\u001b[0m\u001b[0;34m\u001b[0m\u001b[0;34m\u001b[0m\u001b[0m\n\u001b[1;32m     36\u001b[0m             \u001b[0;34m\"that the environment variable WEB3_INFURA_PROJECT_ID is set.\"\u001b[0m\u001b[0;34m\u001b[0m\u001b[0;34m\u001b[0m\u001b[0m\n",
      "\u001b[0;31mInfuraKeyNotFound\u001b[0m: No Infura Project ID found. Please ensure that the environment variable WEB3_INFURA_PROJECT_ID is set."
     ]
    }
   ],
   "source": [
    "# Imports\n",
    "import os\n",
    "from dotenv import load_dotenv\n",
    "load_dotenv()\n",
    "from bip44 import Wallet\n",
    "from web3.gas_strategies.time_based import medium_gas_price_strategy\n",
    "from web3.auto.infura.kovan import w3\n",
    "from web3 import middleware, Account"
   ]
  },
  {
   "cell_type": "markdown",
   "metadata": {},
   "source": [
    "## Step 1 (continued): Import the `MNEMONIC` variable into the notebook. \n",
    "\n",
    "> **Note** You do not need to import the Infura project id directly into the notebook from the `.env` file. The import statement `from web3.auto.infura.kovan import w3` automatically sources the information from the `.env` file and makes it available as needed."
   ]
  },
  {
   "cell_type": "code",
   "execution_count": null,
   "metadata": {},
   "outputs": [],
   "source": [
    "# Call os.getenv(\"MNEMONIC\") and save it's value as a variable named mnemonic\n",
    "mnemonic = os.getenv(\"MNEMONIC\")\n",
    "\n",
    "# View the data type of mnemonic to confirm its availability\n",
    "type(mnemonic)"
   ]
  },
  {
   "cell_type": "markdown",
   "metadata": {},
   "source": [
    "## Step 2: Use the variable associated with your mnemonic seed phrase, and the `Wallet` class from the bip44 package, to generate a wallet instance. Then, derive your private and public keys by calling the `.derive_account` method on the `wallet` object and passing it the string “eth”. Save the two returned values as variables named `private` and `public`."
   ]
  },
  {
   "cell_type": "code",
   "execution_count": null,
   "metadata": {},
   "outputs": [],
   "source": [
    "# Instantiate a new instance of Wallet and pass it the mnemonic variable\n",
    "wallet = Wallet(mnemonic)\n",
    "\n",
    "# Review your wallet instance\n",
    "wallet"
   ]
  },
  {
   "cell_type": "code",
   "execution_count": null,
   "metadata": {},
   "outputs": [],
   "source": [
    "# Calling the derive_account method on your wallet instance\n",
    "# Pass the string eth to the method\n",
    "private, public = wallet.derive_account(\"eth\")\n",
    "\n",
    "# Review the byte string of your private key\n",
    "private"
   ]
  },
  {
   "cell_type": "markdown",
   "metadata": {},
   "source": [
    "## Step 3: Pass the private-key value to `Account.privateKeyToAccount`, and save the returned account object as a variable named `account`."
   ]
  },
  {
   "cell_type": "code",
   "execution_count": null,
   "metadata": {},
   "outputs": [],
   "source": [
    "# Construct the Ethereum account by calling Account.privateKeyToAccount\n",
    "# Pass it your private key variable\n",
    "account = Account.privateKeyToAccount(private)"
   ]
  },
  {
   "cell_type": "markdown",
   "metadata": {},
   "source": [
    "## Step 4: Call `account.address`, and save it as a new variable named `account_address`. Then, print the `account_address` variable to get your public Ethereum address from your public key."
   ]
  },
  {
   "cell_type": "code",
   "execution_count": null,
   "metadata": {},
   "outputs": [],
   "source": [
    "# Call account.address and save it as a new variable named account_address\n",
    "account_address = account.address\n",
    "\n",
    "# Print the account's address\n",
    "account_address"
   ]
  },
  {
   "cell_type": "markdown",
   "metadata": {},
   "source": [
    "## Step5: Define a new variable named `amount`, and set it to a float amount (in ether) that you would like to send&mdash;for example, .00001."
   ]
  },
  {
   "cell_type": "code",
   "execution_count": null,
   "metadata": {},
   "outputs": [],
   "source": [
    "# Define a new variable named amount, and set it to a float amount (in ether)\n",
    "amount = .0001"
   ]
  },
  {
   "cell_type": "markdown",
   "metadata": {},
   "source": [
    "## Step 6: Define a new variable named `receiver` with a string value of “0x4b0d14BDD1E41dAdD15B66EEB7D7c454aD19A0af”. This is the Ethereum address that you will send your transaction to. "
   ]
  },
  {
   "cell_type": "code",
   "execution_count": null,
   "metadata": {},
   "outputs": [],
   "source": [
    "# Define a new variable named receiver \n",
    "# Set it equal to the string value “0x4b0d14BDD1E41dAdD15B66EEB7D7c454aD19A0af”.\n",
    "receiver = \"0x4b0d14BDD1E41dAdD15B66EEB7D7c454aD19A0af\""
   ]
  },
  {
   "cell_type": "markdown",
   "metadata": {},
   "source": [
    "## Step 7: Call the `w3.toWei` function, and convert your `amount` variable to the equivalent amount in ether. Save this value as a new variable named `value`."
   ]
  },
  {
   "cell_type": "code",
   "execution_count": null,
   "metadata": {},
   "outputs": [],
   "source": [
    "# Using w3.toWei, convert your amount variable to the equivalent amount in ether\n",
    "value = w3.toWei(amount, \"ether\")"
   ]
  },
  {
   "cell_type": "markdown",
   "metadata": {},
   "source": [
    "## Step 8: Call `w3.eth.setGasPriceStrategy(medium_gas_price_strategy)` to configure the medium gas price strategy for your wallet."
   ]
  },
  {
   "cell_type": "code",
   "execution_count": null,
   "metadata": {},
   "outputs": [],
   "source": [
    "# Set a medium gas price strategy for your wallet\n",
    "w3.eth.setGasPriceStrategy(medium_gas_price_strategy)"
   ]
  },
  {
   "cell_type": "markdown",
   "metadata": {},
   "source": [
    "## Step 9: Call `w3.eth.estimateGas`, and pass it an object with the following values: { \"to\": receiver, \"from\": account_address, \"value\": value}. Save it as a variable named `gasEstimate`.\n"
   ]
  },
  {
   "cell_type": "code",
   "execution_count": null,
   "metadata": {},
   "outputs": [],
   "source": [
    "# Create the variable gas estimate using the we.eth.estimateGas function\n",
    "# The estimateGas object should contain values for the keys to, from, and value\n",
    "gasEstimate = w3.eth.estimateGas({ \n",
    "    \"to\": receiver, \n",
    "    \"from\": account_address, \n",
    "    \"value\": value \n",
    "})"
   ]
  },
  {
   "cell_type": "markdown",
   "metadata": {},
   "source": [
    "## Step 10: Construct a transaction object named `raw_tx`. It should contain the attributes `to`, `from`, `value`, `gas`, `gasPrice`, and `nonce`.\n",
    "* Set `to` to the value of the variable `receiver`.\n",
    "* Set `from` to the value of the variable `account_address`.\n",
    "* Set `value` to the value of the variable `value`.\n",
    "* Set `gas` to the value of the variable `gasEstimate`.\n",
    "* Set `gasPrice` to the value of the function `w3.eth.generateGasPrice`.\n",
    "* Set `nonce` to the value of the function `w3.eth.getTransactionCount(account_address)`.\n"
   ]
  },
  {
   "cell_type": "code",
   "execution_count": null,
   "metadata": {},
   "outputs": [],
   "source": [
    "# Construct a transaction object named raw_tx\n",
    "# It should contain the attributes `to`, `from`, `value`, `gas`, `gasPrice`, and `nonce`.\n",
    "raw_tx = {\n",
    "        # @TODO For `to` set it to the value of the variable `to`\n",
    "        \"to\": receiver,\n",
    "\n",
    "        # @TODO For `from` set it to the value of `account.address`\n",
    "        \"from\": account.address,\n",
    "\n",
    "        # @TODO For `value` set it to the value of the variable `value`\n",
    "        \"value\": value,\n",
    "\n",
    "        # @TODO For `gas` set it to the value of the variable `gasEstimate`\n",
    "        \"gas\": gasEstimate,\n",
    "\n",
    "        # @TODO For `gasPrice` set it to the value of the function `w3.eth.generateGasPrice`.\n",
    "        \"gasPrice\": w3.eth.generateGasPrice(),\n",
    "\n",
    "        # @TODO For ‘nonce` set it to the value of the function `w3.eth.getTransactionCount(account.address)`.\n",
    "        \"nonce\": w3.eth.getTransactionCount(account_address)\n",
    "}"
   ]
  },
  {
   "cell_type": "markdown",
   "metadata": {},
   "source": [
    "## Step 11: Call `account.signTransaction`, and pass it the `raw_tx` object to sign the transaction."
   ]
  },
  {
   "cell_type": "code",
   "execution_count": null,
   "metadata": {},
   "outputs": [],
   "source": [
    "# Create a signed transaction by calling account.signTransaction and passing it the raw_tx object\n",
    "signed_tx = account.signTransaction(raw_tx)"
   ]
  },
  {
   "cell_type": "markdown",
   "metadata": {},
   "source": [
    "## Step 12: Call `w3.eth.sendRawTransaction`, and pass it `signed_tx.rawTransaction` to execute the transaction on the testnet network. View the HexBytes transaction code that is returned."
   ]
  },
  {
   "cell_type": "code",
   "execution_count": null,
   "metadata": {},
   "outputs": [],
   "source": [
    "# Call w3.eth.sendRawTransaction and pass it the signed_tx.rawTransaction \n",
    "w3.eth.sendRawTransaction(signed_tx.rawTransaction)"
   ]
  },
  {
   "cell_type": "markdown",
   "metadata": {},
   "source": [
    "## Step 13: Navigate to the Kovan [Etherscan](https://kovan.etherscan.io) webpage, and view the transaction by searching for either the “to” or “from” addresses or the HexBytes code associated with the transaction."
   ]
  }
 ],
 "metadata": {
  "interpreter": {
   "hash": "40d3a090f54c6569ab1632332b64b2c03c39dcf918b08424e98f38b5ae0af88f"
  },
  "kernelspec": {
   "display_name": "Python (dev)",
   "language": "python",
   "name": "python3"
  },
  "language_info": {
   "codemirror_mode": {
    "name": "ipython",
    "version": 3
   },
   "file_extension": ".py",
   "mimetype": "text/x-python",
   "name": "python",
   "nbconvert_exporter": "python",
   "pygments_lexer": "ipython3",
   "version": "3.8.8"
  }
 },
 "nbformat": 4,
 "nbformat_minor": 4
}
