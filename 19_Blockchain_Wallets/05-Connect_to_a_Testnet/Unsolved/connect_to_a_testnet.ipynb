{
 "cells": [
  {
   "cell_type": "markdown",
   "metadata": {},
   "source": [
    "# Connect to a Testnet\n",
    "\n",
    "In this activity, you will use the mnemonic seed phrase that you created in the previous lesson to re-create your HD wallet and your Ethereum public-private key pair and account address.\n",
    "\n",
    "You will then use Web3.py to connect to the real Kovan testnet and request coins from the Kovan faucet to your public Ethereum address.\n",
    "\n",
    "\n",
    "## Instructions\n",
    "\n",
    "Complete each of the following steps:\n",
    "\n",
    "1. In the `Unsolved` folder, create your `.env` file, which should contain your mnemonic seed phrased saved as the variable `MNEMONIC`.\n",
    "\n",
    "2. Navigate to the [Infura website](https://infura.io/login), log into your account, and create an Ethereum project. Select Kovan as the project endpoint. Then, copy the resulting project id to your clipboard. Save the project id in your `.env` file as a variable named `WEB3_INFURA_PROJECT_ID`.\n",
    "\n",
    "> **Note** You do not need to import the Infura project id directly into the notebook from the `.env` file. The import statement `from web3.auto.infura.kovan import w3` automatically sources the information from the `.env` file and makes it available as needed.\n",
    "\n",
    "3. Use the mnemonic seed phrase you created in the previous lesson, and the `Wallet()` class from the bip44 package, to generate a wallet instance. Then, derive your private and public keys by calling the `.derive_account` method on the `wallet` object and passing it the string “eth”. Save the two returned values as variables named `private` and `public`.\n",
    "\n",
    "\n",
    "4. Pass the private-key value to `Account.privateKeyToAccount`, and save the returned `account` object as a variable named `account`.\n",
    "\n",
    "\n",
    "5. Call `account.address` and save it as a new variable named `account_address`. Then print the `account_address` variable to get your public Ethereum address from your public key.\n",
    "\n",
    "\n",
    "6. Navigate to the [Kovan faucet](https://faucet.kovan.network), paste in your Ethereum address, and request funds.\n",
    "   * If the Kovan faucet is down, navigate to the [Kovan faucet Gitter channel](https://gitter.im/kovan-testnet/faucet), paste in your Ethereum address, and request funds.\n",
    "\n",
    "\n",
    "7. View your Kovan transaction on [Etherscan](https://kovan.etherscan.io).\n",
    "\n",
    "8. In the Jupyter notebook, fetch the balance of your Ethereum address by using Web3.py. To do so, complete the following steps:\n",
    "\n",
    "   * Call the `w3.eth.getBalance` method, and pass it the `account_address` variable. Save the returned value as a variable named `wei_balance`.\n",
    "   * Call the function `w3.fromWei`, and pass it your `wei_balance` variable and the string “ether”. Save the returned value as a variable named `ether`. Print your account balance in ether.\n",
    "   \n",
    "## References\n",
    "\n",
    "[Web3.py](https://web3py.readthedocs.io/en/stable/)\n",
    "\n",
    "[Infura](https://infura.io/)\n",
    "\n",
    "[Kovan Faucet](https://faucet.kovan.network)\n",
    "\n",
    "[Kovan Gitter Page](https://gitter.im/kovan-testnet/faucet)\n",
    "\n",
    "[Kovan Etherscan](https://kovan.etherscan.io)\n",
    "\n",
    "---"
   ]
  },
  {
   "cell_type": "markdown",
   "metadata": {},
   "source": [
    "## Step 1: In the `Unsolved` folder, create your `.env` file, which should contain your mnemonic seed phrased saved as the variable `MNEMONIC`."
   ]
  },
  {
   "cell_type": "markdown",
   "metadata": {},
   "source": [
    "## Step 2: Navigate to the [Infura website](https://infura.io/login), log into your account, and create an Ethereum project. Select Kovan as the project endpoint. Then, copy the resulting project id to your clipboard. Save the project id in your `.env` file as a variable named `WEB3_INFURA_PROJECT_ID`."
   ]
  },
  {
   "cell_type": "code",
   "execution_count": 1,
   "metadata": {},
   "outputs": [],
   "source": [
    "# Imports\n",
    "import os\n",
    "from dotenv import load_dotenv\n",
    "load_dotenv()\n",
    "from bip44 import Wallet\n",
    "from web3 import Account\n",
    "from web3.auto.infura.kovan import w3"
   ]
  },
  {
   "cell_type": "markdown",
   "metadata": {},
   "source": [
    "## Step 3: Use the mnemonic seed phrase you created in the previous lesson, and the `Wallet()` class from the bip44 package, to generate a wallet instance. Then, derive your private and public keys by calling the `.derive_account` method on the `wallet` object and passing it the string “eth”. Save the two returned values as variables named `private` and `public`."
   ]
  },
  {
   "cell_type": "code",
   "execution_count": 2,
   "metadata": {},
   "outputs": [
    {
     "data": {
      "text/plain": [
       "'inject work property net ivory garbage unusual kiss dose such crime debris salad series verify vault shallow betray ask black aspect lumber stuff sight'"
      ]
     },
     "execution_count": 2,
     "metadata": {},
     "output_type": "execute_result"
    }
   ],
   "source": [
    "# Call os.getenv(\"MNEMONIC\") and save it's value as a variable named mnemonic\n",
    "mnemonic = os.getenv(\"MNEMONIC\")\n",
    "\n",
    "# View the data type of mnemonic to confirm its availability\n",
    "mnemonic"
   ]
  },
  {
   "cell_type": "code",
   "execution_count": 3,
   "metadata": {},
   "outputs": [
    {
     "data": {
      "text/plain": [
       "<bip44.wallet.Wallet at 0x7ff98f0292b0>"
      ]
     },
     "execution_count": 3,
     "metadata": {},
     "output_type": "execute_result"
    }
   ],
   "source": [
    "# Instantiate a new instance of Wallet and pass it the mnemonic variable\n",
    "wallet = Wallet(mnemonic)\n",
    "\n",
    "# Review your wallet instance\n",
    "wallet"
   ]
  },
  {
   "cell_type": "code",
   "execution_count": 5,
   "metadata": {},
   "outputs": [
    {
     "data": {
      "text/plain": [
       "b'Oo2\\xe8\\xb8$\\xd0L\\x80N\\xbf\\x97H.\\x7f$\\x119\\xd8\\xf2N]c\\x8d\\xf1t[5\\x14\\x1f\\xd3\\xe9'"
      ]
     },
     "execution_count": 5,
     "metadata": {},
     "output_type": "execute_result"
    }
   ],
   "source": [
    "# Calling the derive_account method on your wallet instance\n",
    "# Pass the string eth to the method\n",
    "private, public = wallet.derive_account(\"eth\")\n",
    "\n",
    "# Review the byte string of your private key\n",
    "private"
   ]
  },
  {
   "cell_type": "markdown",
   "metadata": {},
   "source": [
    "## Step 4: Pass the private-key value to `Account.privateKeyToAccount`, and save the returned `account` object as a variable named `account`."
   ]
  },
  {
   "cell_type": "code",
   "execution_count": 6,
   "metadata": {},
   "outputs": [],
   "source": [
    "# Construct the Ethereum account by calling Account.privateKeyToAccount\n",
    "# Pass it your private key variable\n",
    "account = Account.privateKeyToAccount(private)\n"
   ]
  },
  {
   "cell_type": "markdown",
   "metadata": {},
   "source": [
    "## Step 5: Call `account.address` and save it as a new variable named `account_address`. Then print the `account_address` variable to get your public Ethereum address from your public key."
   ]
  },
  {
   "cell_type": "code",
   "execution_count": 7,
   "metadata": {},
   "outputs": [
    {
     "data": {
      "text/plain": [
       "'0xF634ceAf7A72C10480bE7c4e3772aC14e11A1713'"
      ]
     },
     "execution_count": 7,
     "metadata": {},
     "output_type": "execute_result"
    }
   ],
   "source": [
    "# Call account.address and save it as a new variable named account_address\n",
    "account_address = account.address\n",
    "\n",
    "# Print the account's address\n",
    "account_address"
   ]
  },
  {
   "cell_type": "markdown",
   "metadata": {},
   "source": [
    "## Step 6: Navigate to the [Kovan faucet](https://faucet.kovan.network), paste in your Ethereum address, and request funds.\n",
    "\n",
    "   * If the Kovan faucet is down, navigate to the [Kovan faucet Gitter channel](https://gitter.im/kovan-testnet/faucet), paste in your Ethereum address, and request funds."
   ]
  },
  {
   "cell_type": "markdown",
   "metadata": {},
   "source": [
    "## Step 7: View your Kovan transaction on [Etherscan](https://kovan.etherscan.io)."
   ]
  },
  {
   "cell_type": "markdown",
   "metadata": {},
   "source": [
    "## Step 8: In the Jupyter notebook, fetch the balance of your Ethereum address by using Web3.py. To do so, complete the following steps:\n",
    "\n",
    "   * Call the `w3.eth.getBalance` method, and pass it the `account_address` variable. Save the returned value as a variable named `wei_balance`.\n",
    "   * Call the function `w3.fromWei`, and pass it your `wei_balance` variable and the string “ether”. Save the returned value as a variable named `ether`. Print your account balance in ether.\n"
   ]
  },
  {
   "cell_type": "code",
   "execution_count": 8,
   "metadata": {},
   "outputs": [
    {
     "data": {
      "text/plain": [
       "6257010552928908"
      ]
     },
     "execution_count": 8,
     "metadata": {},
     "output_type": "execute_result"
    }
   ],
   "source": [
    "# Call the w3.eth.getBalance method, and pass it the account_address variable\n",
    "# Save the returned value as a variable named `wei_balance`\n",
    "wei_balance = w3.eth.getBalance(account_address)\n",
    "\n",
    "# Print your account balance in wei\n",
    "wei_balance\n"
   ]
  },
  {
   "cell_type": "code",
   "execution_count": 10,
   "metadata": {},
   "outputs": [
    {
     "data": {
      "text/plain": [
       "Decimal('0.006257010552928908')"
      ]
     },
     "execution_count": 10,
     "metadata": {},
     "output_type": "execute_result"
    }
   ],
   "source": [
    "# Call the function w3.fromWei, and pass it your wei_balance variable and the string “ether”\n",
    "# Save the returned value as a variable named `ether`\n",
    "ether = w3.fromWei(wei_balance, \"ether\")\n",
    "\n",
    "# Print your account balance in ether\n",
    "ether\n"
   ]
  }
 ],
 "metadata": {
  "interpreter": {
   "hash": "40d3a090f54c6569ab1632332b64b2c03c39dcf918b08424e98f38b5ae0af88f"
  },
  "kernelspec": {
   "display_name": "Python (dev)",
   "language": "python",
   "name": "python3"
  },
  "language_info": {
   "codemirror_mode": {
    "name": "ipython",
    "version": 3
   },
   "file_extension": ".py",
   "mimetype": "text/x-python",
   "name": "python",
   "nbconvert_exporter": "python",
   "pygments_lexer": "ipython3",
   "version": "3.8.8"
  }
 },
 "nbformat": 4,
 "nbformat_minor": 4
}
